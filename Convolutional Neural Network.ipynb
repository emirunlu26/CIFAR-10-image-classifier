{
 "cells": [
  {
   "cell_type": "code",
   "execution_count": 5,
   "id": "c7e409f2",
   "metadata": {},
   "outputs": [],
   "source": [
    "import torch\n",
    "import torch.nn as nn\n",
    "import torch.nn.functional as F\n",
    "import torchvision\n",
    "import torchvision.transforms as transforms\n",
    "import matplotlib.pyplot as plt\n",
    "import numpy as np\n",
    "\n",
    "device = torch.device(\"cuda\" if torch.cuda.is_available() else \"cpu\")\n",
    "\n",
    "# Hyperparameters\n",
    "num_epochs = 10\n",
    "batch_size = 32\n",
    "learning_rate = 0.001\n",
    "\n",
    "# dataset has PILImage images of range [0,1]\n",
    "# transform them to Tensors of normalized range of [-1,1]\n",
    "transform = transforms.Compose(\n",
    "[transforms.ToTensor(), transforms.Normalize((0.5,0.5,0.5),(0.5,0.5,0.5))])\n",
    "\n",
    "# CIFAR10: 60000 32X32 colored images in 10 classes, with 6000 images per class\n",
    "train_dataset = torchvision.datasets.CIFAR10(root=\"./data\",\n",
    "                                            train=True,\n",
    "                                            download=True,\n",
    "                                            transform=transform)\n",
    "test_dataset = torchvision.datasets.CIFAR10(root=\"./data\",\n",
    "                                            train=False,\n",
    "                                            download=True,\n",
    "                                            transform=transform)\n",
    "\n",
    "train_loader = torch.utils.data.DataLoader(dataset=train_dataset,\n",
    "                                                batch_size=batch_size,\n",
    "                                                shuffle=True)\n",
    "\n",
    "test_loader = torch.utils.data.DataLoader(dataset=test_dataset,\n",
    "                                                batch_size=batch_size,\n",
    "                                                shuffle=False)\n",
    "\n",
    "classes = {\"plane\",\"car\",\"bird\",\"cat\",\"deer\",\"dog\",\"frog\",\"horse\",\"ship\",\"truck\"}"
   ]
  },
  {
   "cell_type": "code",
   "execution_count": 6,
   "id": "ead71888",
   "metadata": {},
   "outputs": [
    {
     "name": "stdout",
     "output_type": "stream",
     "text": [
      "Size of training set: 50000\n",
      "Number of training batches 1563\n",
      "Size of test set: 10000\n",
      "Number of test batches 313\n"
     ]
    }
   ],
   "source": [
    "# monitor dataset size\n",
    "print(f\"Size of training set: {len(train_dataset)}\")\n",
    "print(f\"Number of training batches {len(train_loader)}\")\n",
    "print(f\"Size of test set: {len(test_dataset)}\")\n",
    "print(f\"Number of test batches {len(test_loader)}\")"
   ]
  },
  {
   "cell_type": "code",
   "execution_count": 32,
   "id": "33c30a9e",
   "metadata": {},
   "outputs": [
    {
     "name": "stdout",
     "output_type": "stream",
     "text": [
      "Epoch [1/10], Step [500/1563], Loss: 1.7146\n",
      "Epoch [1/10], Step [1000/1563], Loss: 1.6677\n",
      "Epoch [1/10], Step [1500/1563], Loss: 1.3876\n",
      "Epoch [2/10], Step [500/1563], Loss: 0.8687\n",
      "Epoch [2/10], Step [1000/1563], Loss: 0.8832\n",
      "Epoch [2/10], Step [1500/1563], Loss: 0.9158\n",
      "Epoch [3/10], Step [500/1563], Loss: 0.9300\n",
      "Epoch [3/10], Step [1000/1563], Loss: 1.1777\n",
      "Epoch [3/10], Step [1500/1563], Loss: 0.8499\n",
      "Epoch [4/10], Step [500/1563], Loss: 0.8369\n",
      "Epoch [4/10], Step [1000/1563], Loss: 0.6815\n",
      "Epoch [4/10], Step [1500/1563], Loss: 0.9567\n",
      "Epoch [5/10], Step [500/1563], Loss: 0.6486\n",
      "Epoch [5/10], Step [1000/1563], Loss: 1.1321\n",
      "Epoch [5/10], Step [1500/1563], Loss: 0.7898\n",
      "Epoch [6/10], Step [500/1563], Loss: 0.6278\n",
      "Epoch [6/10], Step [1000/1563], Loss: 0.8523\n",
      "Epoch [6/10], Step [1500/1563], Loss: 0.7007\n",
      "Epoch [7/10], Step [500/1563], Loss: 0.6486\n",
      "Epoch [7/10], Step [1000/1563], Loss: 1.0891\n",
      "Epoch [7/10], Step [1500/1563], Loss: 0.8607\n",
      "Epoch [8/10], Step [500/1563], Loss: 0.7549\n",
      "Epoch [8/10], Step [1000/1563], Loss: 0.4066\n",
      "Epoch [8/10], Step [1500/1563], Loss: 0.5929\n",
      "Epoch [9/10], Step [500/1563], Loss: 0.5624\n",
      "Epoch [9/10], Step [1000/1563], Loss: 0.4525\n",
      "Epoch [9/10], Step [1500/1563], Loss: 0.6556\n",
      "Epoch [10/10], Step [500/1563], Loss: 0.9359\n",
      "Epoch [10/10], Step [1000/1563], Loss: 0.6526\n",
      "Epoch [10/10], Step [1500/1563], Loss: 0.5366\n"
     ]
    }
   ],
   "source": [
    "# Define neural network\n",
    "class ConvNet(nn.Module):\n",
    "    def __init__(self):\n",
    "        super().__init__()\n",
    "        self.conv1 = nn.Conv2d(in_channels=3,out_channels=32,kernel_size=3)\n",
    "        self.pool = nn.MaxPool2d(kernel_size=2,stride=2)\n",
    "        self.conv2 = nn.Conv2d(in_channels=32,out_channels=64,kernel_size=3)\n",
    "        self.conv3 = nn.Conv2d(in_channels=64,out_channels=64,kernel_size=3)\n",
    "        self.fc1 = nn.Linear(64*4*4,64)\n",
    "        self.fc2 = nn.Linear(64,10)\n",
    "        \n",
    "    def forward(self,x):\n",
    "        # image shape at the start (3,32,32)\n",
    "        out = F.relu(self.conv1(x))           # -> (32,30,30)\n",
    "        out = self.pool(out)                  # -> (32,15,15)\n",
    "        out = F.relu(self.conv2(out))         # -> (64,13,13)\n",
    "        out = self.pool(out)                  # -> (64,6,6)\n",
    "        out = F.relu(self.conv3(out))         # -> (64,4,4)\n",
    "        out = torch.flatten(out,start_dim=1)  # -> (64x4x4=1024)\n",
    "        out = F.relu(self.fc1(out))           # -> 64\n",
    "        out = self.fc2(out)                   # -> 10\n",
    "        return out\n",
    "\n",
    "model = ConvNet().to(device)\n",
    "\n",
    "criterion = nn.CrossEntropyLoss()\n",
    "optimizer = torch.optim.AdamW(model.parameters(),lr=learning_rate)\n",
    "\n",
    "n_total_steps = len(train_loader)\n",
    "num_batches = len(train_loader)\n",
    "monitor_step_size = 500\n",
    "\n",
    "for epoch in range(num_epochs):\n",
    "    for step, (images,labels) in enumerate(train_loader):\n",
    "        images = images.to(device)\n",
    "        labels = labels.to(device)\n",
    "        \n",
    "        # Forward pass\n",
    "        outputs = model(images)\n",
    "        loss = criterion(outputs,labels)\n",
    "        \n",
    "        # Backpropagation and Optimize\n",
    "        loss.backward()\n",
    "        optimizer.step()\n",
    "        optimizer.zero_grad()\n",
    "        \n",
    "        # Monitor training\n",
    "        if (step+1) % monitor_step_size == 0:\n",
    "            print(f\"Epoch [{epoch+1}/{num_epochs}], Step [{step+1}/{n_total_steps}], Loss: {loss.item():.4f}\")"
   ]
  },
  {
   "cell_type": "code",
   "execution_count": 33,
   "id": "9e98c1f2",
   "metadata": {},
   "outputs": [],
   "source": [
    " # Save the model\n",
    "path = \"./cnn.pth\"\n",
    "torch.save(model.state_dict(),path)"
   ]
  },
  {
   "cell_type": "code",
   "execution_count": 38,
   "id": "63b17180",
   "metadata": {},
   "outputs": [
    {
     "name": "stdout",
     "output_type": "stream",
     "text": [
      "Accuracy of the trained model on the test set: 70.78 %\n"
     ]
    }
   ],
   "source": [
    "# Evaluate the trained model on the test set\n",
    "model.eval()\n",
    "with torch.no_grad():\n",
    "    num_correct = 0\n",
    "    num_samples = len(test_dataset)\n",
    "\n",
    "    for step, (images,labels) in enumerate(test_loader):\n",
    "        images = images.to(device)\n",
    "        labels = labels.to(device)\n",
    "            \n",
    "        outputs = model(images)\n",
    "        preds = torch.argmax(outputs,1)\n",
    "        num_correct += (preds == labels).sum().item()\n",
    "\n",
    "    # Print results\n",
    "    acc = num_correct / num_samples\n",
    "    print(f\"Accuracy of the trained model on the test set: {(acc * 100):.2f} %\")"
   ]
  },
  {
   "cell_type": "code",
   "execution_count": null,
   "id": "734b13de",
   "metadata": {},
   "outputs": [],
   "source": [
    "# load the saved model\n",
    "loaded_model = ConvNet()\n",
    "state_dict = torch.load(path)\n",
    "loaded_model.load_state_dict(state_dict)"
   ]
  }
 ],
 "metadata": {
  "kernelspec": {
   "display_name": "Python 3 (ipykernel)",
   "language": "python",
   "name": "python3"
  },
  "language_info": {
   "codemirror_mode": {
    "name": "ipython",
    "version": 3
   },
   "file_extension": ".py",
   "mimetype": "text/x-python",
   "name": "python",
   "nbconvert_exporter": "python",
   "pygments_lexer": "ipython3",
   "version": "3.11.5"
  }
 },
 "nbformat": 4,
 "nbformat_minor": 5
}
